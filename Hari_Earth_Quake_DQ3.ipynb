{
 "cells": [
  {
   "cell_type": "markdown",
   "metadata": {},
   "source": [
    "## Data Questions\n",
    "\n",
    "Data questions:\n",
    "- Are there factors that make an earthquake more likely?\n",
    "   -- Proximity to fault zone / areas of continental drift\n",
    "- Are there factors that make an earthquake more deadly?\n",
    "   --Secondary effects / volcanos / tsunamis / age of population / time of day / per capita gdp or economic factors\n",
    "- Where would you live if you wanted to eliminate the risk of experiencing an earthquake?\n",
    "   -- Points maximally distant from earthquakes\n",
    "- Where would you avoid living?\n",
    "\n",
    "\n",
    "\n",
    "\n",
    "#### Data cleaning tasks include:\n",
    "1. Replace empty strings with NaN\n",
    "2. Remove the footnotes from the 'Other Source Deaths' column\n",
    "3. Convert Magnitude to a numeric\n",
    "4. Create a new column ('deaths') that evaluates the four total-death columns ('PDE Total Deaths', 'Utsu Total Deaths', 'EM-DAT Total Deaths', and 'Other Source Deaths') and populates the new column with the highest value.\n",
    "5. Explore the data in terms of when and where earthquakes occurred and how severe they were (magnitude, deaths, secondary effects).\n",
    "\n"
   ]
  },
  {
   "cell_type": "code",
   "execution_count": 1,
   "metadata": {},
   "outputs": [],
   "source": [
    "import pandas as pd\n",
    "import requests\n",
    "import matplotlib\n",
    "from bs4 import BeautifulSoup as BS\n",
    "import numpy as np\n",
    "from datetime import datetime\n",
    "import matplotlib.pyplot as plt\n",
    "import folium\n",
    "from shapely.geometry import Point\n",
    "import geopandas as gpd\n",
    "from mpl_toolkits.basemap import Basemap\n",
    "from folium import plugins\n",
    "import json\n",
    "import seaborn as sns\n",
    "from pylab import rc, rcParams\n",
    "import seaborn as sns\n",
    "from matplotlib.pyplot import figure\n",
    "from folium.plugins import MarkerCluster\n",
    "\n",
    "\n",
    "pd.options.display.max_rows = 1500\n",
    "pd.options.display.max_columns = 1500\n",
    "%matplotlib inline\n",
    "\n"
   ]
  },
  {
   "cell_type": "markdown",
   "metadata": {},
   "source": [
    "#### The [Requests](http://docs.python-requests.org/en/master/user/quickstart/) package makes working with HTTP easier"
   ]
  },
  {
   "cell_type": "code",
   "execution_count": 2,
   "metadata": {},
   "outputs": [],
   "source": [
    "# create a Request object for the wikipedia page for the Turing Award\n",
    "response = requests.get('https://en.wikipedia.org/wiki/List_of_deadly_earthquakes_since_1900')\n",
    "\n",
    "# read the resulting HTML into a variable called result_text\n",
    "result_text = response.text"
   ]
  },
  {
   "cell_type": "code",
   "execution_count": 3,
   "metadata": {},
   "outputs": [
    {
     "name": "stdout",
     "output_type": "stream",
     "text": [
      "<class 'requests.models.Response'>\n",
      "<class 'str'>\n"
     ]
    }
   ],
   "source": [
    "print(type(response))\n",
    "print(type(result_text))"
   ]
  },
  {
   "cell_type": "code",
   "execution_count": 4,
   "metadata": {},
   "outputs": [],
   "source": [
    "#result_text"
   ]
  },
  {
   "cell_type": "markdown",
   "metadata": {},
   "source": [
    "#### [Beautiful Soup](https://www.crummy.com/software/BeautifulSoup/bs4/doc/) is a package that helps pull data from HTML (and XML) files"
   ]
  },
  {
   "cell_type": "code",
   "execution_count": 5,
   "metadata": {},
   "outputs": [],
   "source": [
    "# create the soup by constructing a BS object from the html page and the appropriate parser\n",
    "earthquake = BS(result_text, 'lxml')"
   ]
  },
  {
   "cell_type": "code",
   "execution_count": 6,
   "metadata": {},
   "outputs": [
    {
     "data": {
      "text/plain": [
       "[<th width=\"22%\">Origin (<a class=\"mw-redirect\" href=\"/wiki/UTC\" title=\"UTC\">UTC</a>)</th>,\n",
       " <th width=\"33%\">Present-day country and link to Wikipedia article</th>,\n",
       " <th width=\"10%\"><a href=\"/wiki/Latitude\" title=\"Latitude\">Lat</a></th>,\n",
       " <th width=\"10%\"><a href=\"/wiki/Longitude\" title=\"Longitude\">Long</a></th>,\n",
       " <th width=\"8%\">Depth (<a class=\"mw-redirect\" href=\"/wiki/Km\" title=\"Km\">km</a>)</th>,\n",
       " <th width=\"6%\">Magnitude</th>,\n",
       " <th width=\"9%\">Secondary Effects</th>,\n",
       " <th width=\"10%\">PDE Shaking Deaths</th>,\n",
       " <th width=\"10%\">PDE Total Deaths</th>,\n",
       " <th width=\"10%\">Utsu Total Deaths</th>,\n",
       " <th width=\"10%\">EM-DAT Total Deaths</th>,\n",
       " <th width=\"12%\">Other Source Deaths\n",
       " </th>]"
      ]
     },
     "execution_count": 6,
     "metadata": {},
     "output_type": "execute_result"
    }
   ],
   "source": [
    "earthquake.findAll('table')[4].findAll('tr', limit=2)[0].findAll('th') "
   ]
  },
  {
   "cell_type": "code",
   "execution_count": 7,
   "metadata": {},
   "outputs": [],
   "source": [
    "column_headers = [th.getText() for th in \n",
    "                  earthquake.findAll('table')[4].findAll('tr', limit=2)[0].findAll('th')] "
   ]
  },
  {
   "cell_type": "code",
   "execution_count": 8,
   "metadata": {},
   "outputs": [
    {
     "data": {
      "text/plain": [
       "['Origin (UTC)',\n",
       " 'Present-day country and link to Wikipedia article',\n",
       " 'Lat',\n",
       " 'Long',\n",
       " 'Depth (km)',\n",
       " 'Magnitude',\n",
       " 'Secondary Effects',\n",
       " 'PDE Shaking Deaths',\n",
       " 'PDE Total Deaths',\n",
       " 'Utsu Total Deaths',\n",
       " 'EM-DAT Total Deaths',\n",
       " 'Other Source Deaths\\n']"
      ]
     },
     "execution_count": 8,
     "metadata": {},
     "output_type": "execute_result"
    }
   ],
   "source": [
    "column_headers"
   ]
  },
  {
   "cell_type": "code",
   "execution_count": 9,
   "metadata": {},
   "outputs": [],
   "source": [
    "data = []\n",
    "table = earthquake.find('table', class_ = \"sortable wikitable\")\n",
    "table_body = table.find('tbody')\n",
    "\n",
    "rows = table_body.find_all('tr')[1:]\n",
    "for row in rows:\n",
    "    cols = row.find_all('td')\n",
    "    cols = [col.text.strip() for col in cols]\n",
    "\n",
    "    data.append(cols) "
   ]
  },
  {
   "cell_type": "code",
   "execution_count": 10,
   "metadata": {},
   "outputs": [],
   "source": [
    "earthquake_df = pd.DataFrame(data, columns = column_headers)\n"
   ]
  },
  {
   "cell_type": "code",
   "execution_count": 11,
   "metadata": {},
   "outputs": [
    {
     "data": {
      "text/html": [
       "<div>\n",
       "<style scoped>\n",
       "    .dataframe tbody tr th:only-of-type {\n",
       "        vertical-align: middle;\n",
       "    }\n",
       "\n",
       "    .dataframe tbody tr th {\n",
       "        vertical-align: top;\n",
       "    }\n",
       "\n",
       "    .dataframe thead th {\n",
       "        text-align: right;\n",
       "    }\n",
       "</style>\n",
       "<table border=\"1\" class=\"dataframe\">\n",
       "  <thead>\n",
       "    <tr style=\"text-align: right;\">\n",
       "      <th></th>\n",
       "      <th>Origin (UTC)</th>\n",
       "      <th>Present-day country and link to Wikipedia article</th>\n",
       "      <th>Lat</th>\n",
       "      <th>Long</th>\n",
       "      <th>Depth (km)</th>\n",
       "      <th>Magnitude</th>\n",
       "      <th>Secondary Effects</th>\n",
       "      <th>PDE Shaking Deaths</th>\n",
       "      <th>PDE Total Deaths</th>\n",
       "      <th>Utsu Total Deaths</th>\n",
       "      <th>EM-DAT Total Deaths</th>\n",
       "      <th>Other Source Deaths\\n</th>\n",
       "    </tr>\n",
       "  </thead>\n",
       "  <tbody>\n",
       "    <tr>\n",
       "      <th>0</th>\n",
       "      <td>1900-05-11 17:23</td>\n",
       "      <td>Japan</td>\n",
       "      <td>38.700</td>\n",
       "      <td>141.100</td>\n",
       "      <td>5</td>\n",
       "      <td>7.0 MJMA</td>\n",
       "      <td></td>\n",
       "      <td></td>\n",
       "      <td></td>\n",
       "      <td></td>\n",
       "      <td></td>\n",
       "      <td></td>\n",
       "    </tr>\n",
       "    <tr>\n",
       "      <th>1</th>\n",
       "      <td>1900-07-12 06:25</td>\n",
       "      <td>Turkey</td>\n",
       "      <td>40.300</td>\n",
       "      <td>43.100</td>\n",
       "      <td></td>\n",
       "      <td>5.9 Muk</td>\n",
       "      <td></td>\n",
       "      <td></td>\n",
       "      <td></td>\n",
       "      <td>140</td>\n",
       "      <td></td>\n",
       "      <td></td>\n",
       "    </tr>\n",
       "    <tr>\n",
       "      <th>2</th>\n",
       "      <td>1900-10-29 09:11</td>\n",
       "      <td>Venezuela</td>\n",
       "      <td>11.000</td>\n",
       "      <td>-66.000</td>\n",
       "      <td>0</td>\n",
       "      <td>7.7 Mw</td>\n",
       "      <td></td>\n",
       "      <td></td>\n",
       "      <td></td>\n",
       "      <td></td>\n",
       "      <td></td>\n",
       "      <td></td>\n",
       "    </tr>\n",
       "    <tr>\n",
       "      <th>3</th>\n",
       "      <td>1901-02-15 00:00</td>\n",
       "      <td>China</td>\n",
       "      <td>26.000</td>\n",
       "      <td>100.100</td>\n",
       "      <td>0</td>\n",
       "      <td>6.5 Ms</td>\n",
       "      <td></td>\n",
       "      <td></td>\n",
       "      <td></td>\n",
       "      <td></td>\n",
       "      <td></td>\n",
       "      <td></td>\n",
       "    </tr>\n",
       "    <tr>\n",
       "      <th>4</th>\n",
       "      <td>1901-03-31 07:11</td>\n",
       "      <td>Bulgaria</td>\n",
       "      <td>43.400</td>\n",
       "      <td>28.700</td>\n",
       "      <td></td>\n",
       "      <td>6.4 Muk</td>\n",
       "      <td></td>\n",
       "      <td></td>\n",
       "      <td></td>\n",
       "      <td>4</td>\n",
       "      <td></td>\n",
       "      <td></td>\n",
       "    </tr>\n",
       "  </tbody>\n",
       "</table>\n",
       "</div>"
      ],
      "text/plain": [
       "       Origin (UTC) Present-day country and link to Wikipedia article     Lat  \\\n",
       "0  1900-05-11 17:23                                             Japan  38.700   \n",
       "1  1900-07-12 06:25                                            Turkey  40.300   \n",
       "2  1900-10-29 09:11                                         Venezuela  11.000   \n",
       "3  1901-02-15 00:00                                             China  26.000   \n",
       "4  1901-03-31 07:11                                          Bulgaria  43.400   \n",
       "\n",
       "      Long Depth (km) Magnitude Secondary Effects PDE Shaking Deaths  \\\n",
       "0  141.100          5  7.0 MJMA                                        \n",
       "1   43.100              5.9 Muk                                        \n",
       "2  -66.000          0    7.7 Mw                                        \n",
       "3  100.100          0    6.5 Ms                                        \n",
       "4   28.700              6.4 Muk                                        \n",
       "\n",
       "  PDE Total Deaths Utsu Total Deaths EM-DAT Total Deaths Other Source Deaths\\n  \n",
       "0                                                                               \n",
       "1                                140                                            \n",
       "2                                                                               \n",
       "3                                                                               \n",
       "4                                  4                                            "
      ]
     },
     "execution_count": 11,
     "metadata": {},
     "output_type": "execute_result"
    }
   ],
   "source": [
    "earthquake_df.head()"
   ]
  },
  {
   "cell_type": "code",
   "execution_count": 12,
   "metadata": {},
   "outputs": [],
   "source": [
    " earthquake_df.columns = [\n",
    "    'Origin(UTC)',\n",
    "    'Country',\n",
    "    'Lat',\n",
    "    'Long',\n",
    "    'Depth(km)',\n",
    "    'Magnitude',\n",
    "    'Secondary Effects',\n",
    "    'PDE Shaking Deaths',\n",
    "    'PDE Total Deaths',\n",
    "    'UTsu Total Deaths',\n",
    "    'EM-Dat Total Deaths',\n",
    "    'Other Source Deaths']"
   ]
  },
  {
   "cell_type": "code",
   "execution_count": 13,
   "metadata": {},
   "outputs": [
    {
     "data": {
      "text/plain": [
       "[<meta charset=\"utf-8\"/>,\n",
       " <title>List of deadly earthquakes since 1900 - Wikipedia</title>,\n",
       " <script>document.documentElement.className=\"client-js\";RLCONF={\"wgCanonicalNamespace\":\"\",\"wgCanonicalSpecialPageName\":!1,\"wgNamespaceNumber\":0,\"wgPageName\":\"List_of_deadly_earthquakes_since_1900\",\"wgTitle\":\"List of deadly earthquakes since 1900\",\"wgCurRevisionId\":898836578,\"wgRevisionId\":898836578,\"wgArticleId\":11673441,\"wgIsArticle\":!0,\"wgIsRedirect\":!1,\"wgAction\":\"view\",\"wgUserName\":null,\"wgUserGroups\":[\"*\"],\"wgCategories\":[\"CS1 errors: deprecated parameters\",\"CS1 errors: missing periodical\",\"Articles needing additional references from July 2017\",\"All articles needing additional references\",\"Articles needing cleanup from July 2017\",\"All pages needing cleanup\",\"Cleanup tagged articles with a reason field from July 2017\",\"Wikipedia pages needing cleanup from July 2017\",\"Articles with obsolete information from July 2017\",\"All Wikipedia articles in need of updating\",\"Articles with multiple maintenance issues\",\"M jma\",\"M uk\",\"M w\",\"M s\",\"M L\",\"M b\",\"M d\",\"Lists of earthquakes\"],\n",
       " \"wgBreakFrames\":!1,\"wgPageContentLanguage\":\"en\",\"wgPageContentModel\":\"wikitext\",\"wgSeparatorTransformTable\":[\"\",\"\"],\"wgDigitTransformTable\":[\"\",\"\"],\"wgDefaultDateFormat\":\"dmy\",\"wgMonthNames\":[\"\",\"January\",\"February\",\"March\",\"April\",\"May\",\"June\",\"July\",\"August\",\"September\",\"October\",\"November\",\"December\"],\"wgMonthNamesShort\":[\"\",\"Jan\",\"Feb\",\"Mar\",\"Apr\",\"May\",\"Jun\",\"Jul\",\"Aug\",\"Sep\",\"Oct\",\"Nov\",\"Dec\"],\"wgRelevantPageName\":\"List_of_deadly_earthquakes_since_1900\",\"wgRelevantArticleId\":11673441,\"wgRequestId\":\"XX-CrApAICgAAHD0uNQAAADU\",\"wgCSPNonce\":!1,\"wgIsProbablyEditable\":!0,\"wgRelevantPageIsProbablyEditable\":!0,\"wgRestrictionEdit\":[],\"wgRestrictionMove\":[],\"wgMediaViewerOnClick\":!0,\"wgMediaViewerEnabledByDefault\":!0,\"wgPopupsReferencePreviews\":!1,\"wgPopupsConflictsWithNavPopupGadget\":!1,\"wgVisualEditor\":{\"pageLanguageCode\":\"en\",\"pageLanguageDir\":\"ltr\",\"pageVariantFallbacks\":\"en\"},\"wgMFDisplayWikibaseDescriptions\":{\"search\":!0,\"nearby\":!0,\"watchlist\":!0,\"tagline\":\n",
       " !1},\"wgWMESchemaEditAttemptStepOversample\":!1,\"wgPoweredByHHVM\":!0,\"wgULSCurrentAutonym\":\"English\",\"wgNoticeProject\":\"wikipedia\",\"wgWikibaseItemId\":\"Q6615709\",\"wgCentralAuthMobileDomain\":!1,\"wgEditSubmitButtonLabelPublish\":!0};RLSTATE={\"ext.gadget.charinsert-styles\":\"ready\",\"ext.globalCssJs.user.styles\":\"ready\",\"site.styles\":\"ready\",\"noscript\":\"ready\",\"user.styles\":\"ready\",\"ext.globalCssJs.user\":\"ready\",\"user\":\"ready\",\"user.options\":\"ready\",\"user.tokens\":\"loading\",\"ext.cite.styles\":\"ready\",\"mediawiki.legacy.shared\":\"ready\",\"mediawiki.legacy.commonPrint\":\"ready\",\"jquery.tablesorter.styles\":\"ready\",\"jquery.makeCollapsible.styles\":\"ready\",\"wikibase.client.init\":\"ready\",\"ext.visualEditor.desktopArticleTarget.noscript\":\"ready\",\"ext.uls.interlanguage\":\"ready\",\"ext.wikimediaBadges\":\"ready\",\"ext.3d.styles\":\"ready\",\"mediawiki.skinning.interface\":\"ready\",\"skins.vector.styles\":\"ready\"};RLPAGEMODULES=[\"ext.cite.ux-enhancements\",\"site\",\"mediawiki.page.startup\",\"mediawiki.page.ready\",\n",
       " \"jquery.tablesorter\",\"jquery.makeCollapsible\",\"mediawiki.searchSuggest\",\"ext.gadget.teahouse\",\"ext.gadget.ReferenceTooltips\",\"ext.gadget.watchlist-notice\",\"ext.gadget.DRN-wizard\",\"ext.gadget.charinsert\",\"ext.gadget.refToolbar\",\"ext.gadget.extra-toolbar-buttons\",\"ext.gadget.switcher\",\"ext.centralauth.centralautologin\",\"mmv.head\",\"mmv.bootstrap.autostart\",\"ext.popups\",\"ext.visualEditor.desktopArticleTarget.init\",\"ext.visualEditor.targetLoader\",\"ext.eventLogging\",\"ext.wikimediaEvents\",\"ext.navigationTiming\",\"ext.uls.compactlinks\",\"ext.uls.interface\",\"ext.cx.eventlogging.campaigns\",\"ext.quicksurveys.init\",\"ext.centralNotice.geoIP\",\"ext.centralNotice.startUp\",\"skins.vector.js\"];</script>,\n",
       " <script>(RLQ=window.RLQ||[]).push(function(){mw.loader.implement(\"user.tokens@tffin\",function($,jQuery,require,module){/*@nomin*/mw.user.tokens.set({\"editToken\":\"+\\\\\",\"patrolToken\":\"+\\\\\",\"watchToken\":\"+\\\\\",\"csrfToken\":\"+\\\\\"});\n",
       " });});</script>,\n",
       " <link href=\"/w/load.php?lang=en&amp;modules=ext.3d.styles%7Cext.cite.styles%7Cext.uls.interlanguage%7Cext.wikimediaBadges%7Cjquery.makeCollapsible.styles%7Cjquery.tablesorter.styles%7Cmediawiki.legacy.commonPrint%2Cshared%7Cmediawiki.skinning.interface%7Cskins.vector.styles%7Cwikibase.client.init&amp;only=styles&amp;skin=vector\" rel=\"stylesheet\"/>,\n",
       " <link href=\"/w/load.php?lang=en&amp;modules=ext.visualEditor.desktopArticleTarget.noscript&amp;only=styles&amp;skin=vector\" rel=\"stylesheet\"/>,\n",
       " <script async=\"\" src=\"/w/load.php?lang=en&amp;modules=startup&amp;only=scripts&amp;raw=1&amp;skin=vector\"></script>,\n",
       " <meta content=\"\" name=\"ResourceLoaderDynamicStyles\"/>,\n",
       " <link href=\"/w/load.php?lang=en&amp;modules=ext.gadget.charinsert-styles&amp;only=styles&amp;skin=vector\" rel=\"stylesheet\"/>,\n",
       " <link href=\"/w/load.php?lang=en&amp;modules=site.styles&amp;only=styles&amp;skin=vector\" rel=\"stylesheet\"/>,\n",
       " <meta content=\"MediaWiki 1.34.0-wmf.22\" name=\"generator\"/>,\n",
       " <meta content=\"origin\" name=\"referrer\"/>,\n",
       " <meta content=\"origin-when-crossorigin\" name=\"referrer\"/>,\n",
       " <meta content=\"origin-when-cross-origin\" name=\"referrer\"/>,\n",
       " <link href=\"android-app://org.wikipedia/http/en.m.wikipedia.org/wiki/List_of_deadly_earthquakes_since_1900\" rel=\"alternate\"/>,\n",
       " <link href=\"/w/index.php?title=List_of_deadly_earthquakes_since_1900&amp;action=edit\" rel=\"alternate\" title=\"Edit this page\" type=\"application/x-wiki\"/>,\n",
       " <link href=\"/w/index.php?title=List_of_deadly_earthquakes_since_1900&amp;action=edit\" rel=\"edit\" title=\"Edit this page\"/>,\n",
       " <link href=\"/static/apple-touch/wikipedia.png\" rel=\"apple-touch-icon\"/>,\n",
       " <link href=\"/static/favicon/wikipedia.ico\" rel=\"shortcut icon\"/>,\n",
       " <link href=\"/w/opensearch_desc.php\" rel=\"search\" title=\"Wikipedia (en)\" type=\"application/opensearchdescription+xml\"/>,\n",
       " <link href=\"//en.wikipedia.org/w/api.php?action=rsd\" rel=\"EditURI\" type=\"application/rsd+xml\"/>,\n",
       " <link href=\"//creativecommons.org/licenses/by-sa/3.0/\" rel=\"license\"/>,\n",
       " <link href=\"https://en.wikipedia.org/wiki/List_of_deadly_earthquakes_since_1900\" rel=\"canonical\"/>,\n",
       " <link href=\"//login.wikimedia.org\" rel=\"dns-prefetch\"/>,\n",
       " <link href=\"//meta.wikimedia.org\" rel=\"dns-prefetch\"/>]"
      ]
     },
     "execution_count": 13,
     "metadata": {},
     "output_type": "execute_result"
    }
   ],
   "source": [
    "earthquake.head()"
   ]
  },
  {
   "cell_type": "markdown",
   "metadata": {},
   "source": [
    "#### Explore the methods and attributes of the soup object - here are a few"
   ]
  },
  {
   "cell_type": "code",
   "execution_count": 14,
   "metadata": {},
   "outputs": [
    {
     "data": {
      "text/plain": [
       "(1340, 12)"
      ]
     },
     "execution_count": 14,
     "metadata": {},
     "output_type": "execute_result"
    }
   ],
   "source": [
    "earthquake_df.shape"
   ]
  },
  {
   "cell_type": "code",
   "execution_count": 15,
   "metadata": {},
   "outputs": [
    {
     "name": "stdout",
     "output_type": "stream",
     "text": [
      "<class 'pandas.core.frame.DataFrame'>\n",
      "RangeIndex: 1340 entries, 0 to 1339\n",
      "Data columns (total 12 columns):\n",
      "Origin(UTC)            1340 non-null object\n",
      "Country                1340 non-null object\n",
      "Lat                    1340 non-null object\n",
      "Long                   1340 non-null object\n",
      "Depth(km)              1340 non-null object\n",
      "Magnitude              1340 non-null object\n",
      "Secondary Effects      1340 non-null object\n",
      "PDE Shaking Deaths     1340 non-null object\n",
      "PDE Total Deaths       1340 non-null object\n",
      "UTsu Total Deaths      1340 non-null object\n",
      "EM-Dat Total Deaths    1340 non-null object\n",
      "Other Source Deaths    1338 non-null object\n",
      "dtypes: object(12)\n",
      "memory usage: 125.8+ KB\n"
     ]
    }
   ],
   "source": [
    "earthquake_df.info()"
   ]
  },
  {
   "cell_type": "code",
   "execution_count": 16,
   "metadata": {},
   "outputs": [],
   "source": [
    "earthquake_df = earthquake_df.replace('\\n','',regex=True)"
   ]
  },
  {
   "cell_type": "code",
   "execution_count": 17,
   "metadata": {},
   "outputs": [],
   "source": [
    "earthquake_df['EM-Dat Total Deaths'] = earthquake_df['EM-Dat Total Deaths'].replace('\\[.+', '', regex=True)\n",
    "earthquake_df['EM-Dat Total Deaths'] = earthquake_df['EM-Dat Total Deaths'].replace(\"|\",\"\",regex=True)"
   ]
  },
  {
   "cell_type": "code",
   "execution_count": 18,
   "metadata": {},
   "outputs": [],
   "source": [
    "earthquake_df['Other Source Deaths'] = earthquake_df['Other Source Deaths'].str.replace('\\[.+', '')\n",
    "earthquake_df['Other Source Deaths'] = earthquake_df['Other Source Deaths'].str.replace('\\s+\\(.+', '')\n",
    "earthquake_df['Other Source Deaths'] = earthquake_df['Other Source Deaths'].str.replace('\\\\n','')\n",
    "earthquake_df['Other Source Deaths']= earthquake_df['Other Source Deaths'].str.replace('\\+', '')\n",
    "earthquake_df['Other Source Deaths'] = earthquake_df['Other Source Deaths'].str.replace('\\*', '')\n",
    "earthquake_df['Other Source Deaths'] = earthquake_df['Other Source Deaths'].str.replace(',', '')"
   ]
  },
  {
   "cell_type": "code",
   "execution_count": 19,
   "metadata": {},
   "outputs": [],
   "source": [
    "earthquake_df['Magnitude'] = earthquake_df['Magnitude'].replace('\\[\\d+\\]', '', regex=True)"
   ]
  },
  {
   "cell_type": "code",
   "execution_count": 20,
   "metadata": {},
   "outputs": [],
   "source": [
    "earthquake_df['Depth(km)'] = earthquake_df['Depth(km)'].replace('?', '')"
   ]
  },
  {
   "cell_type": "code",
   "execution_count": 21,
   "metadata": {},
   "outputs": [],
   "source": [
    "earthquake_df['Country'] = earthquake_df['Country'].replace(',', \"\", regex=True)\n",
    "earthquake_df['Long']= earthquake_df['Long'].replace('??', '')\n",
    "earthquake_df['Lat']= earthquake_df['Lat'].replace('?', '')"
   ]
  },
  {
   "cell_type": "code",
   "execution_count": 22,
   "metadata": {},
   "outputs": [],
   "source": [
    "earthquake_df['Magnitude'] = earthquake_df['Magnitude'].str.split(n=-1, expand=True)\n"
   ]
  },
  {
   "cell_type": "code",
   "execution_count": 23,
   "metadata": {},
   "outputs": [],
   "source": [
    "earthquake_df['Country'] = earthquake_df['Country'].str.replace('\\s+\\(.+', '')"
   ]
  },
  {
   "cell_type": "code",
   "execution_count": 24,
   "metadata": {},
   "outputs": [],
   "source": [
    "earthquake_df['Country'] = earthquake_df['Country'].str.replace(',', \"\", regex=True)"
   ]
  },
  {
   "cell_type": "code",
   "execution_count": 25,
   "metadata": {},
   "outputs": [],
   "source": [
    "earthquake_df['Origin(UTC)']= pd.to_datetime(earthquake_df['Origin(UTC)'], yearfirst = True)"
   ]
  },
  {
   "cell_type": "code",
   "execution_count": 26,
   "metadata": {
    "scrolled": false
   },
   "outputs": [],
   "source": [
    "cols_float = ['Lat', 'Long', 'Depth(km)','Magnitude']\n",
    "earthquake_df[cols_float] = earthquake_df[cols_float].apply(pd.to_numeric)"
   ]
  },
  {
   "cell_type": "code",
   "execution_count": 27,
   "metadata": {},
   "outputs": [],
   "source": [
    "earthquake_df['Lat'] = earthquake_df['Lat'].astype('float')\n",
    "earthquake_df['Long'] = earthquake_df['Long'].astype('float')"
   ]
  },
  {
   "cell_type": "code",
   "execution_count": 28,
   "metadata": {},
   "outputs": [],
   "source": [
    "cols_int = ['PDE Shaking Deaths', 'PDE Total Deaths', 'UTsu Total Deaths','EM-Dat Total Deaths', 'Other Source Deaths']\n",
    "earthquake_df[cols_int] = earthquake_df[cols_int].apply(pd.to_numeric)"
   ]
  },
  {
   "cell_type": "code",
   "execution_count": 29,
   "metadata": {},
   "outputs": [
    {
     "name": "stdout",
     "output_type": "stream",
     "text": [
      "<class 'pandas.core.frame.DataFrame'>\n",
      "RangeIndex: 1340 entries, 0 to 1339\n",
      "Data columns (total 12 columns):\n",
      "Origin(UTC)            1340 non-null datetime64[ns]\n",
      "Country                1340 non-null object\n",
      "Lat                    1324 non-null float64\n",
      "Long                   1324 non-null float64\n",
      "Depth(km)              1249 non-null float64\n",
      "Magnitude              1339 non-null float64\n",
      "Secondary Effects      373 non-null object\n",
      "PDE Shaking Deaths     738 non-null float64\n",
      "PDE Total Deaths       749 non-null float64\n",
      "UTsu Total Deaths      1027 non-null float64\n",
      "EM-Dat Total Deaths    559 non-null float64\n",
      "Other Source Deaths    37 non-null float64\n",
      "dtypes: datetime64[ns](1), float64(9), object(2)\n",
      "memory usage: 125.8+ KB\n"
     ]
    }
   ],
   "source": [
    "earthquake_df = earthquake_df.replace('', np.NAN)\n",
    "earthquake_df.info()"
   ]
  },
  {
   "cell_type": "code",
   "execution_count": 30,
   "metadata": {},
   "outputs": [],
   "source": [
    "earthquake_df['deaths'] =  earthquake_df[['PDE Total Deaths','UTsu Total Deaths','EM-Dat Total Deaths','Other Source Deaths']].max(axis =1)"
   ]
  },
  {
   "cell_type": "code",
   "execution_count": 31,
   "metadata": {},
   "outputs": [],
   "source": [
    "earthquake_df= earthquake_df.sort_values(by ='Depth(km)', ascending=False).reset_index(drop=True)"
   ]
  },
  {
   "cell_type": "code",
   "execution_count": 32,
   "metadata": {},
   "outputs": [
    {
     "data": {
      "text/plain": [
       "China        166\n",
       "Indonesia     97\n",
       "Turkey        95\n",
       "Iran          91\n",
       "Japan         82\n",
       "Name: Country, dtype: int64"
      ]
     },
     "execution_count": 32,
     "metadata": {},
     "output_type": "execute_result"
    }
   ],
   "source": [
    "earthquake_df['Country'].value_counts().head()"
   ]
  },
  {
   "cell_type": "code",
   "execution_count": 33,
   "metadata": {},
   "outputs": [
    {
     "data": {
      "text/plain": [
       "L         165\n",
       "T         144\n",
       "T,L        26\n",
       "L,Lq       10\n",
       "F           9\n",
       "T,F         5\n",
       "T,L,Lq      4\n",
       "Lq          4\n",
       "T,Lq        2\n",
       "T,LF        2\n",
       "L,F,Lq      1\n",
       "L,F         1\n",
       "Name: Secondary Effects, dtype: int64"
      ]
     },
     "execution_count": 33,
     "metadata": {},
     "output_type": "execute_result"
    }
   ],
   "source": [
    "earthquake_df['Secondary Effects'].value_counts()"
   ]
  },
  {
   "cell_type": "code",
   "execution_count": 34,
   "metadata": {},
   "outputs": [
    {
     "data": {
      "text/plain": [
       "array([nan, 'L', 'T', 'F', 'Lq', 'T,L', 'L,Lq', 'T,L,Lq', 'T,Lq', 'T,F',\n",
       "       'T,LF', 'L,F,Lq', 'L,F'], dtype=object)"
      ]
     },
     "execution_count": 34,
     "metadata": {},
     "output_type": "execute_result"
    }
   ],
   "source": [
    "earthquake_df['Secondary Effects'].unique()"
   ]
  },
  {
   "cell_type": "code",
   "execution_count": 35,
   "metadata": {},
   "outputs": [],
   "source": [
    "earthquake_df['Secondary Effects'] = earthquake_df['Secondary Effects'].str.replace(',', \"\", regex=True)"
   ]
  },
  {
   "cell_type": "code",
   "execution_count": 36,
   "metadata": {},
   "outputs": [],
   "source": [
    "earthquake_df = earthquake_df.join(earthquake_df['Secondary Effects'] \\\n",
    "    .str.replace(r'LF', 'L,F', regex = True)\\\n",
    "    .str.replace(r'TL','T,L', regex = True)\\\n",
    "    .str.replace(r'FLq', 'F,Lq', regex = True)\\\n",
    "    .str.replace(r'LLq', 'L,Lq', regex = True)\\\n",
    "    .str.replace(r'TLq', 'T,Lq', regex = True)\\\n",
    "    .str.replace(r'TLLq', 'T,L,Lq', regex = True)\\\n",
    "    .str.replace(r'TF', 'T,F', regex = True)\\\n",
    "    .str.replace(r'TLF', 'T,L,F', regex = True)\\\n",
    "    .str.get_dummies(','))"
   ]
  },
  {
   "cell_type": "code",
   "execution_count": 37,
   "metadata": {},
   "outputs": [
    {
     "data": {
      "text/plain": [
       "array([nan, 'L', 'T', 'F', 'Lq', 'TL', 'LLq', 'TLLq', 'TLq', 'TF', 'TLF',\n",
       "       'LFLq', 'LF'], dtype=object)"
      ]
     },
     "execution_count": 37,
     "metadata": {},
     "output_type": "execute_result"
    }
   ],
   "source": [
    "earthquake_df['Secondary Effects'].unique()"
   ]
  },
  {
   "cell_type": "code",
   "execution_count": 38,
   "metadata": {},
   "outputs": [],
   "source": [
    "earthquake_df = earthquake_df.rename(columns={'Origin(UTC)': 'Date'})"
   ]
  },
  {
   "cell_type": "code",
   "execution_count": 39,
   "metadata": {},
   "outputs": [],
   "source": [
    "earthquake_df['Year'] = earthquake_df['Date'].dt.year"
   ]
  },
  {
   "cell_type": "code",
   "execution_count": 40,
   "metadata": {},
   "outputs": [
    {
     "data": {
      "text/html": [
       "<div>\n",
       "<style scoped>\n",
       "    .dataframe tbody tr th:only-of-type {\n",
       "        vertical-align: middle;\n",
       "    }\n",
       "\n",
       "    .dataframe tbody tr th {\n",
       "        vertical-align: top;\n",
       "    }\n",
       "\n",
       "    .dataframe thead th {\n",
       "        text-align: right;\n",
       "    }\n",
       "</style>\n",
       "<table border=\"1\" class=\"dataframe\">\n",
       "  <thead>\n",
       "    <tr style=\"text-align: right;\">\n",
       "      <th></th>\n",
       "      <th>Secondary Effects</th>\n",
       "      <th>Percentage</th>\n",
       "    </tr>\n",
       "  </thead>\n",
       "  <tbody>\n",
       "    <tr>\n",
       "      <th>0</th>\n",
       "      <td>Landslide</td>\n",
       "      <td>15.597015</td>\n",
       "    </tr>\n",
       "    <tr>\n",
       "      <th>1</th>\n",
       "      <td>Tsunami</td>\n",
       "      <td>13.656716</td>\n",
       "    </tr>\n",
       "    <tr>\n",
       "      <th>2</th>\n",
       "      <td>Liquefaction</td>\n",
       "      <td>1.567164</td>\n",
       "    </tr>\n",
       "    <tr>\n",
       "      <th>3</th>\n",
       "      <td>Fire</td>\n",
       "      <td>1.343284</td>\n",
       "    </tr>\n",
       "  </tbody>\n",
       "</table>\n",
       "</div>"
      ],
      "text/plain": [
       "  Secondary Effects  Percentage\n",
       "0         Landslide   15.597015\n",
       "1           Tsunami   13.656716\n",
       "2      Liquefaction    1.567164\n",
       "3              Fire    1.343284"
      ]
     },
     "execution_count": 40,
     "metadata": {},
     "output_type": "execute_result"
    }
   ],
   "source": [
    "#percentage of secondary effects\n",
    "Landslide1 =len(earthquake_df[earthquake_df['L']>0])/1340*100\n",
    "Tstunami1 =len(earthquake_df[earthquake_df['T']>0])/1340*100\n",
    "Liquefaction1 =len(earthquake_df[earthquake_df['Lq']>0])/1340*100\n",
    "Fire1=len(earthquake_df[earthquake_df['F']>0])/1340*100\n",
    "d = {'Landslide': Landslide1,'Tsunami': Tstunami1,'Liquefaction': Liquefaction1,'Fire' :Fire1}\n",
    "df =pd.DataFrame(d, index=[0])\n",
    "\n",
    "df1 = df.T\n",
    "\n",
    "df1.reset_index(inplace = True)\n",
    "df1.rename(columns = {'index': 'Secondary Effects', 0: 'Percentage'}, inplace = True)\n",
    "\n",
    "df1.head()\n"
   ]
  },
  {
   "cell_type": "code",
   "execution_count": 41,
   "metadata": {
    "scrolled": false
   },
   "outputs": [
    {
     "data": {
      "text/plain": [
       "<Figure size 1800x1080 with 0 Axes>"
      ]
     },
     "metadata": {},
     "output_type": "display_data"
    },
    {
     "data": {
      "image/png": "[encoded data removed]",
      "text/plain": [
       "<Figure size 432x288 with 1 Axes>"
      ]
     },
     "metadata": {
      "needs_background": "light"
     },
     "output_type": "display_data"
    }
   ],
   "source": [
    "plt.figure(figsize=(25,15))\n",
    "df1.plot.bar (x = 'Secondary Effects', y='Percentage',title= \"Secondary Effects between \\n 1900 to 2011 earthquakes\", color=['blue','green','yellow','orange'])\n",
    "#plt.xticks(ticks, ['Landslide', 'tsunami','Liquefaction','Fire','Liquid']\n",
    "plt.xlabel('Secondary Effects', fontsize=15)\n",
    "plt.ylabel('% of Secondary Effects in \\n Total Earthquakes', fontsize=20);\n",
    "plt.xticks(size =15)\n",
    "# legend_kwds = ['Landslide', 'Tsunami','Liquefaction','Fire']\n",
    "# plt.legend(legend_kwds = legend_kwds)\n",
    "plt.legend(bbox_to_anchor=(1.05, 1), loc=2, borderaxespad=0.)\n",
    "plt.savefig('percentageSE.pdf')"
   ]
  },
  {
   "cell_type": "markdown",
   "metadata": {},
   "source": [
    "### 30% of the total earthquakes between 1900- 2011 has secondary effects. Top secondary effects are Landslide(~16%), and Tsunami(~14%) while Liquefaction and Fire constitute< 1.5% This suggests that there are other secondary effects leading to deaths during earthquakes. \n",
    "\n",
    "### Question: Does seconday effects are related to higher magnitude or there is not relation to Magnitude? "
   ]
  },
  {
   "cell_type": "markdown",
   "metadata": {},
   "source": [
    "#### Cleaned earthquake_df"
   ]
  },
  {
   "cell_type": "code",
   "execution_count": 42,
   "metadata": {
    "scrolled": false
   },
   "outputs": [
    {
     "data": {
      "text/plain": [
       "Index(['Date', 'Country', 'Lat', 'Long', 'Depth(km)', 'Magnitude',\n",
       "       'Secondary Effects', 'PDE Shaking Deaths', 'PDE Total Deaths',\n",
       "       'UTsu Total Deaths', 'EM-Dat Total Deaths', 'Other Source Deaths',\n",
       "       'deaths', 'F', 'L', 'Lq', 'T', 'Year'],\n",
       "      dtype='object')"
      ]
     },
     "execution_count": 42,
     "metadata": {},
     "output_type": "execute_result"
    }
   ],
   "source": [
    "earthquake_df= earthquake_df.sort_values(by ='deaths', ascending=False).reset_index(drop=True)\n",
    "earthquake_df.columns"
   ]
  },
  {
   "cell_type": "code",
   "execution_count": 43,
   "metadata": {},
   "outputs": [
    {
     "data": {
      "text/plain": [
       "<matplotlib.axes._subplots.AxesSubplot at 0x1a25119128>"
      ]
     },
     "execution_count": 43,
     "metadata": {},
     "output_type": "execute_result"
    },
    {
     "data": {
      "image/png": "[encoded data removed]",
      "text/plain": [
       "<Figure size 432x288 with 1 Axes>"
      ]
     },
     "metadata": {
      "needs_background": "light"
     },
     "output_type": "display_data"
    }
   ],
   "source": [
    "earthquake_df.plot(x = 'deaths', y ='Magnitude', kind ='scatter')"
   ]
  },
  {
   "cell_type": "code",
   "execution_count": 44,
   "metadata": {
    "scrolled": true
   },
   "outputs": [
    {
     "data": {
      "text/plain": [
       "<matplotlib.axes._subplots.AxesSubplot at 0x1a25f0f4e0>"
      ]
     },
     "execution_count": 44,
     "metadata": {},
     "output_type": "execute_result"
    },
    {
     "data": {
      "image/png": "[encoded data removed]",
      "text/plain": [
       "<Figure size 432x288 with 1 Axes>"
      ]
     },
     "metadata": {
      "needs_background": "light"
     },
     "output_type": "display_data"
    }
   ],
   "source": [
    "earthquake_df.plot(x = 'Magnitude', y ='deaths', kind = 'scatter')"
   ]
  },
  {
   "cell_type": "code",
   "execution_count": 45,
   "metadata": {},
   "outputs": [
    {
     "data": {
      "text/plain": [
       "<matplotlib.axes._subplots.AxesSubplot at 0x1a25f7d7b8>"
      ]
     },
     "execution_count": 45,
     "metadata": {},
     "output_type": "execute_result"
    },
    {
     "data": {
      "image/png": "[encoded data removed]",
      "text/plain": [
       "<Figure size 432x288 with 1 Axes>"
      ]
     },
     "metadata": {
      "needs_background": "light"
     },
     "output_type": "display_data"
    }
   ],
   "source": [
    "earthquake_df.plot(x = 'Magnitude', y ='Depth(km)', kind ='scatter')"
   ]
  },
  {
   "cell_type": "code",
   "execution_count": 46,
   "metadata": {},
   "outputs": [
    {
     "data": {
      "text/plain": [
       "<matplotlib.axes._subplots.AxesSubplot at 0x1a26062780>"
      ]
     },
     "execution_count": 46,
     "metadata": {},
     "output_type": "execute_result"
    },
    {
     "data": {
      "image/png": "[encoded data removed]",
      "text/plain": [
       "<Figure size 432x288 with 1 Axes>"
      ]
     },
     "metadata": {
      "needs_background": "light"
     },
     "output_type": "display_data"
    }
   ],
   "source": [
    "earthquake_df.plot(x = 'Depth(km)', y ='deaths', kind ='scatter')"
   ]
  },
  {
   "cell_type": "markdown",
   "metadata": {},
   "source": [
    "### Correlation between Depth, Magnitude, and Deaths"
   ]
  },
  {
   "cell_type": "code",
   "execution_count": 47,
   "metadata": {},
   "outputs": [
    {
     "name": "stdout",
     "output_type": "stream",
     "text": [
      "           Depth(km)  Magnitude\n",
      "Depth(km)   1.000000   0.164748\n",
      "Magnitude   0.164748   1.000000\n",
      "\n",
      "           Depth(km)    deaths\n",
      "Depth(km)   1.000000 -0.022377\n",
      "deaths     -0.022377  1.000000\n",
      "\n",
      "           Magnitude    deaths\n",
      "Magnitude   1.000000  0.139654\n",
      "deaths      0.139654  1.000000\n"
     ]
    }
   ],
   "source": [
    "print(earthquake_df[['Depth(km)','Magnitude']].corr())\n",
    "print('''''')\n",
    "print(earthquake_df[['Depth(km)','deaths']].corr())\n",
    "print('''''')\n",
    "print(earthquake_df[['Magnitude','deaths']].corr())\n",
    "\n",
    "#np.corrcoef(earthquake_df1['Magnitude'],earthquake_df1['Depth(km)'])"
   ]
  },
  {
   "cell_type": "markdown",
   "metadata": {},
   "source": [
    "### Looking at the Correlation data there doesnot seem to have a very strong correlation between the groups. There  is a negative correlation between Depth and deaths. Need to check if there is correlation at the different levels of Magnitude, Depth and deaths. "
   ]
  },
  {
   "cell_type": "code",
   "execution_count": 48,
   "metadata": {},
   "outputs": [
    {
     "data": {
      "text/html": [
       "<div>\n",
       "<style scoped>\n",
       "    .dataframe tbody tr th:only-of-type {\n",
       "        vertical-align: middle;\n",
       "    }\n",
       "\n",
       "    .dataframe tbody tr th {\n",
       "        vertical-align: top;\n",
       "    }\n",
       "\n",
       "    .dataframe thead th {\n",
       "        text-align: right;\n",
       "    }\n",
       "</style>\n",
       "<table border=\"1\" class=\"dataframe\">\n",
       "  <thead>\n",
       "    <tr style=\"text-align: right;\">\n",
       "      <th></th>\n",
       "      <th>Lat</th>\n",
       "      <th>Long</th>\n",
       "      <th>Depth(km)</th>\n",
       "      <th>Magnitude</th>\n",
       "      <th>PDE Shaking Deaths</th>\n",
       "      <th>PDE Total Deaths</th>\n",
       "      <th>UTsu Total Deaths</th>\n",
       "      <th>EM-Dat Total Deaths</th>\n",
       "      <th>Other Source Deaths</th>\n",
       "      <th>deaths</th>\n",
       "      <th>F</th>\n",
       "      <th>L</th>\n",
       "      <th>Lq</th>\n",
       "      <th>T</th>\n",
       "      <th>Year</th>\n",
       "    </tr>\n",
       "  </thead>\n",
       "  <tbody>\n",
       "    <tr>\n",
       "      <th>count</th>\n",
       "      <td>1324.000000</td>\n",
       "      <td>1324.000000</td>\n",
       "      <td>1249.000000</td>\n",
       "      <td>1339.000000</td>\n",
       "      <td>738.000000</td>\n",
       "      <td>749.000000</td>\n",
       "      <td>1027.000000</td>\n",
       "      <td>559.000000</td>\n",
       "      <td>37.000000</td>\n",
       "      <td>1273.000000</td>\n",
       "      <td>1340.000000</td>\n",
       "      <td>1340.000000</td>\n",
       "      <td>1340.000000</td>\n",
       "      <td>1340.000000</td>\n",
       "      <td>1340.000000</td>\n",
       "    </tr>\n",
       "    <tr>\n",
       "      <th>mean</th>\n",
       "      <td>21.394194</td>\n",
       "      <td>39.213427</td>\n",
       "      <td>29.550681</td>\n",
       "      <td>6.398133</td>\n",
       "      <td>1506.390244</td>\n",
       "      <td>2019.323097</td>\n",
       "      <td>1580.013632</td>\n",
       "      <td>3319.295170</td>\n",
       "      <td>18161.243243</td>\n",
       "      <td>2478.362922</td>\n",
       "      <td>0.013433</td>\n",
       "      <td>0.155970</td>\n",
       "      <td>0.015672</td>\n",
       "      <td>0.136567</td>\n",
       "      <td>1972.200746</td>\n",
       "    </tr>\n",
       "    <tr>\n",
       "      <th>std</th>\n",
       "      <td>21.461868</td>\n",
       "      <td>80.133871</td>\n",
       "      <td>44.899987</td>\n",
       "      <td>0.967825</td>\n",
       "      <td>24589.605189</td>\n",
       "      <td>26877.253336</td>\n",
       "      <td>12620.035353</td>\n",
       "      <td>18661.234365</td>\n",
       "      <td>53945.531960</td>\n",
       "      <td>24002.086927</td>\n",
       "      <td>0.115162</td>\n",
       "      <td>0.362963</td>\n",
       "      <td>0.124248</td>\n",
       "      <td>0.343518</td>\n",
       "      <td>29.176947</td>\n",
       "    </tr>\n",
       "    <tr>\n",
       "      <th>min</th>\n",
       "      <td>-54.000000</td>\n",
       "      <td>-178.162000</td>\n",
       "      <td>0.000000</td>\n",
       "      <td>2.000000</td>\n",
       "      <td>0.000000</td>\n",
       "      <td>0.000000</td>\n",
       "      <td>1.000000</td>\n",
       "      <td>0.000000</td>\n",
       "      <td>1.000000</td>\n",
       "      <td>0.000000</td>\n",
       "      <td>0.000000</td>\n",
       "      <td>0.000000</td>\n",
       "      <td>0.000000</td>\n",
       "      <td>0.000000</td>\n",
       "      <td>1900.000000</td>\n",
       "    </tr>\n",
       "    <tr>\n",
       "      <th>25%</th>\n",
       "      <td>8.237500</td>\n",
       "      <td>-0.592000</td>\n",
       "      <td>10.000000</td>\n",
       "      <td>5.700000</td>\n",
       "      <td>1.000000</td>\n",
       "      <td>1.000000</td>\n",
       "      <td>2.000000</td>\n",
       "      <td>3.000000</td>\n",
       "      <td>68.000000</td>\n",
       "      <td>2.000000</td>\n",
       "      <td>0.000000</td>\n",
       "      <td>0.000000</td>\n",
       "      <td>0.000000</td>\n",
       "      <td>0.000000</td>\n",
       "      <td>1953.000000</td>\n",
       "    </tr>\n",
       "    <tr>\n",
       "      <th>50%</th>\n",
       "      <td>29.004500</td>\n",
       "      <td>51.575000</td>\n",
       "      <td>18.000000</td>\n",
       "      <td>6.400000</td>\n",
       "      <td>3.000000</td>\n",
       "      <td>4.000000</td>\n",
       "      <td>11.000000</td>\n",
       "      <td>17.000000</td>\n",
       "      <td>215.000000</td>\n",
       "      <td>10.000000</td>\n",
       "      <td>0.000000</td>\n",
       "      <td>0.000000</td>\n",
       "      <td>0.000000</td>\n",
       "      <td>0.000000</td>\n",
       "      <td>1980.000000</td>\n",
       "    </tr>\n",
       "    <tr>\n",
       "      <th>75%</th>\n",
       "      <td>38.000000</td>\n",
       "      <td>103.675000</td>\n",
       "      <td>35.000000</td>\n",
       "      <td>7.100000</td>\n",
       "      <td>16.750000</td>\n",
       "      <td>24.000000</td>\n",
       "      <td>103.000000</td>\n",
       "      <td>181.500000</td>\n",
       "      <td>2489.000000</td>\n",
       "      <td>92.000000</td>\n",
       "      <td>0.000000</td>\n",
       "      <td>0.000000</td>\n",
       "      <td>0.000000</td>\n",
       "      <td>0.000000</td>\n",
       "      <td>1995.000000</td>\n",
       "    </tr>\n",
       "    <tr>\n",
       "      <th>max</th>\n",
       "      <td>66.226000</td>\n",
       "      <td>178.291000</td>\n",
       "      <td>644.600000</td>\n",
       "      <td>9.500000</td>\n",
       "      <td>655237.000000</td>\n",
       "      <td>655237.000000</td>\n",
       "      <td>242800.000000</td>\n",
       "      <td>242000.000000</td>\n",
       "      <td>231000.000000</td>\n",
       "      <td>655237.000000</td>\n",
       "      <td>1.000000</td>\n",
       "      <td>1.000000</td>\n",
       "      <td>1.000000</td>\n",
       "      <td>1.000000</td>\n",
       "      <td>2018.000000</td>\n",
       "    </tr>\n",
       "  </tbody>\n",
       "</table>\n",
       "</div>"
      ],
      "text/plain": [
       "               Lat         Long    Depth(km)    Magnitude  PDE Shaking Deaths  \\\n",
       "count  1324.000000  1324.000000  1249.000000  1339.000000          738.000000   \n",
       "mean     21.394194    39.213427    29.550681     6.398133         1506.390244   \n",
       "std      21.461868    80.133871    44.899987     0.967825        24589.605189   \n",
       "min     -54.000000  -178.162000     0.000000     2.000000            0.000000   \n",
       "25%       8.237500    -0.592000    10.000000     5.700000            1.000000   \n",
       "50%      29.004500    51.575000    18.000000     6.400000            3.000000   \n",
       "75%      38.000000   103.675000    35.000000     7.100000           16.750000   \n",
       "max      66.226000   178.291000   644.600000     9.500000       655237.000000   \n",
       "\n",
       "       PDE Total Deaths  UTsu Total Deaths  EM-Dat Total Deaths  \\\n",
       "count        749.000000        1027.000000           559.000000   \n",
       "mean        2019.323097        1580.013632          3319.295170   \n",
       "std        26877.253336       12620.035353         18661.234365   \n",
       "min            0.000000           1.000000             0.000000   \n",
       "25%            1.000000           2.000000             3.000000   \n",
       "50%            4.000000          11.000000            17.000000   \n",
       "75%           24.000000         103.000000           181.500000   \n",
       "max       655237.000000      242800.000000        242000.000000   \n",
       "\n",
       "       Other Source Deaths         deaths            F            L  \\\n",
       "count            37.000000    1273.000000  1340.000000  1340.000000   \n",
       "mean          18161.243243    2478.362922     0.013433     0.155970   \n",
       "std           53945.531960   24002.086927     0.115162     0.362963   \n",
       "min               1.000000       0.000000     0.000000     0.000000   \n",
       "25%              68.000000       2.000000     0.000000     0.000000   \n",
       "50%             215.000000      10.000000     0.000000     0.000000   \n",
       "75%            2489.000000      92.000000     0.000000     0.000000   \n",
       "max          231000.000000  655237.000000     1.000000     1.000000   \n",
       "\n",
       "                Lq            T         Year  \n",
       "count  1340.000000  1340.000000  1340.000000  \n",
       "mean      0.015672     0.136567  1972.200746  \n",
       "std       0.124248     0.343518    29.176947  \n",
       "min       0.000000     0.000000  1900.000000  \n",
       "25%       0.000000     0.000000  1953.000000  \n",
       "50%       0.000000     0.000000  1980.000000  \n",
       "75%       0.000000     0.000000  1995.000000  \n",
       "max       1.000000     1.000000  2018.000000  "
      ]
     },
     "execution_count": 48,
     "metadata": {},
     "output_type": "execute_result"
    }
   ],
   "source": [
    "earthquake_df.describe()"
   ]
  },
  {
   "cell_type": "code",
   "execution_count": 49,
   "metadata": {},
   "outputs": [
    {
     "name": "stderr",
     "output_type": "stream",
     "text": [
      "/Users/hari/anaconda3/envs/NSSdatascience/lib/python3.6/site-packages/numpy/lib/histograms.py:824: RuntimeWarning: invalid value encountered in greater_equal\n",
      "  keep = (tmp_a >= first_edge)\n",
      "/Users/hari/anaconda3/envs/NSSdatascience/lib/python3.6/site-packages/numpy/lib/histograms.py:825: RuntimeWarning: invalid value encountered in less_equal\n",
      "  keep &= (tmp_a <= last_edge)\n"
     ]
    },
    {
     "data": {
      "text/html": [
       "<div>\n",
       "<style scoped>\n",
       "    .dataframe tbody tr th:only-of-type {\n",
       "        vertical-align: middle;\n",
       "    }\n",
       "\n",
       "    .dataframe tbody tr th {\n",
       "        vertical-align: top;\n",
       "    }\n",
       "\n",
       "    .dataframe thead th {\n",
       "        text-align: right;\n",
       "    }\n",
       "</style>\n",
       "<table border=\"1\" class=\"dataframe\">\n",
       "  <thead>\n",
       "    <tr style=\"text-align: right;\">\n",
       "      <th></th>\n",
       "      <th>Magnitude Range</th>\n",
       "      <th>Frequency</th>\n",
       "      <th>Percentage</th>\n",
       "    </tr>\n",
       "  </thead>\n",
       "  <tbody>\n",
       "    <tr>\n",
       "      <th>0</th>\n",
       "      <td>5.5-6.5</td>\n",
       "      <td>477.0</td>\n",
       "      <td>35.60</td>\n",
       "    </tr>\n",
       "    <tr>\n",
       "      <th>1</th>\n",
       "      <td>6.5-7.5</td>\n",
       "      <td>481.0</td>\n",
       "      <td>35.90</td>\n",
       "    </tr>\n",
       "    <tr>\n",
       "      <th>2</th>\n",
       "      <td>7.5-8.5</td>\n",
       "      <td>172.0</td>\n",
       "      <td>12.84</td>\n",
       "    </tr>\n",
       "    <tr>\n",
       "      <th>3</th>\n",
       "      <td>8.5-9.5</td>\n",
       "      <td>13.0</td>\n",
       "      <td>0.97</td>\n",
       "    </tr>\n",
       "  </tbody>\n",
       "</table>\n",
       "</div>"
      ],
      "text/plain": [
       "  Magnitude Range  Frequency  Percentage\n",
       "0         5.5-6.5      477.0       35.60\n",
       "1         6.5-7.5      481.0       35.90\n",
       "2         7.5-8.5      172.0       12.84\n",
       "3         8.5-9.5       13.0        0.97"
      ]
     },
     "execution_count": 49,
     "metadata": {},
     "output_type": "execute_result"
    },
    {
     "data": {
      "image/png": "[encoded data removed]",
      "text/plain": [
       "<Figure size 432x288 with 1 Axes>"
      ]
     },
     "metadata": {
      "needs_background": "light"
     },
     "output_type": "display_data"
    }
   ],
   "source": [
    "total = len(earthquake_df)\n",
    "count, bins, patch = plt.hist(earthquake_df[\"Magnitude\"], histtype = 'step', range=(5.5,9.5), bins =4)\n",
    "plt.xlabel(\"Earthquake Magnitudes\")\n",
    "plt.ylabel(\"Frequency\")\n",
    "plt.title(\"Frequency by Magnitude\")\n",
    "magnitude_range = pd.DataFrame()\n",
    "for i, x in enumerate(count):\n",
    "    x = str(bins[i])+ \"-\"+str(bins[i+1])\n",
    "    y = count[i]\n",
    "    percentage = round((count[i]/total) * 100, 2)\n",
    "    magnitude_range = magnitude_range.append(pd.Series([x, y, percentage]), ignore_index=True)\n",
    "    \n",
    "magnitude_range.columns = ['Magnitude Range', 'Frequency', 'Percentage']\n",
    "magnitude_range"
   ]
  },
  {
   "cell_type": "code",
   "execution_count": 50,
   "metadata": {},
   "outputs": [
    {
     "data": {
      "text/plain": [
       "<Figure size 1800x1080 with 0 Axes>"
      ]
     },
     "metadata": {},
     "output_type": "display_data"
    },
    {
     "data": {
      "image/png": "[encoded data removed]",
      "text/plain": [
       "<Figure size 432x288 with 1 Axes>"
      ]
     },
     "metadata": {
      "needs_background": "light"
     },
     "output_type": "display_data"
    }
   ],
   "source": [
    "plt.figure(figsize=(25,15))\n",
    "magnitude_range.reset_index().plot.bar(x='Magnitude Range', y='Percentage',width = 0.95)\n",
    "plt.title(\"Percentage of Magnitude Range\", size = 20)\n",
    "plt.ylabel('Percentage', fontsize=20)\n",
    "plt.xlabel('Magnitude Range', fontsize=20)\n",
    "plt.xticks(size =10, rotation=0)\n",
    "plt.yticks(size =10);"
   ]
  },
  {
   "cell_type": "code",
   "execution_count": 51,
   "metadata": {},
   "outputs": [
    {
     "data": {
      "text/html": [
       "<div>\n",
       "<style scoped>\n",
       "    .dataframe tbody tr th:only-of-type {\n",
       "        vertical-align: middle;\n",
       "    }\n",
       "\n",
       "    .dataframe tbody tr th {\n",
       "        vertical-align: top;\n",
       "    }\n",
       "\n",
       "    .dataframe thead th {\n",
       "        text-align: right;\n",
       "    }\n",
       "</style>\n",
       "<table border=\"1\" class=\"dataframe\">\n",
       "  <thead>\n",
       "    <tr style=\"text-align: right;\">\n",
       "      <th></th>\n",
       "      <th>Depth(km)</th>\n",
       "      <th>Frequency</th>\n",
       "      <th>Percentage</th>\n",
       "    </tr>\n",
       "  </thead>\n",
       "  <tbody>\n",
       "    <tr>\n",
       "      <th>0</th>\n",
       "      <td>0.0-130.0</td>\n",
       "      <td>1220.0</td>\n",
       "      <td>91.04</td>\n",
       "    </tr>\n",
       "    <tr>\n",
       "      <th>1</th>\n",
       "      <td>130.0-260.0</td>\n",
       "      <td>24.0</td>\n",
       "      <td>1.79</td>\n",
       "    </tr>\n",
       "    <tr>\n",
       "      <th>2</th>\n",
       "      <td>260.0-390.0</td>\n",
       "      <td>1.0</td>\n",
       "      <td>0.07</td>\n",
       "    </tr>\n",
       "    <tr>\n",
       "      <th>3</th>\n",
       "      <td>390.0-520.0</td>\n",
       "      <td>1.0</td>\n",
       "      <td>0.07</td>\n",
       "    </tr>\n",
       "    <tr>\n",
       "      <th>4</th>\n",
       "      <td>520.0-650.0</td>\n",
       "      <td>3.0</td>\n",
       "      <td>0.22</td>\n",
       "    </tr>\n",
       "  </tbody>\n",
       "</table>\n",
       "</div>"
      ],
      "text/plain": [
       "     Depth(km)  Frequency  Percentage\n",
       "0    0.0-130.0     1220.0       91.04\n",
       "1  130.0-260.0       24.0        1.79\n",
       "2  260.0-390.0        1.0        0.07\n",
       "3  390.0-520.0        1.0        0.07\n",
       "4  520.0-650.0        3.0        0.22"
      ]
     },
     "execution_count": 51,
     "metadata": {},
     "output_type": "execute_result"
    },
    {
     "data": {
      "image/png": "[encoded data removed]",
      "text/plain": [
       "<Figure size 432x288 with 1 Axes>"
      ]
     },
     "metadata": {
      "needs_background": "light"
     },
     "output_type": "display_data"
    }
   ],
   "source": [
    "total = len(earthquake_df)\n",
    "count, bins, patch = plt.hist(earthquake_df[\"Depth(km)\"], histtype = 'step', range=(0,650), bins =5)\n",
    "plt.xlabel(\"Depth(km)\")\n",
    "plt.ylabel(\"Frequency\")\n",
    "plt.title(\"Frequency by Depth\")\n",
    "depth_range = pd.DataFrame()\n",
    "for i, x in enumerate(count):\n",
    "    x = str(bins[i])+ \"-\"+str(bins[i+1])\n",
    "    y = count[i]\n",
    "    percentage = round((count[i]/total) * 100, 2)\n",
    "    depth_range = depth_range.append(pd.Series([x, y, percentage]), ignore_index=True)\n",
    "    \n",
    "depth_range.columns = ['Depth(km)', 'Frequency', 'Percentage']\n",
    "depth_range"
   ]
  },
  {
   "cell_type": "code",
   "execution_count": 52,
   "metadata": {},
   "outputs": [
    {
     "data": {
      "text/plain": [
       "<Figure size 1440x1080 with 0 Axes>"
      ]
     },
     "metadata": {},
     "output_type": "display_data"
    },
    {
     "data": {
      "image/png": "[encoded data removed]",
      "text/plain": [
       "<Figure size 432x288 with 1 Axes>"
      ]
     },
     "metadata": {
      "needs_background": "light"
     },
     "output_type": "display_data"
    }
   ],
   "source": [
    "plt.figure(figsize=(20,15))\n",
    "depth_range.reset_index().plot.bar(x='Depth(km)', y='Percentage',width = 0.95)\n",
    "plt.title(\"Percentage of Depth(km)\", size = 20)\n",
    "plt.ylabel('Percentage', fontsize=20)\n",
    "plt.xlabel('Depth(km) Range', fontsize=20)\n",
    "plt.xticks(size =10, rotation=45)\n",
    "plt.yticks(size =10)\n",
    "plt.ylim([0, 100]);"
   ]
  },
  {
   "cell_type": "code",
   "execution_count": 53,
   "metadata": {},
   "outputs": [
    {
     "data": {
      "text/plain": [
       "Text(0.5, 0, 'Magnitude')"
      ]
     },
     "execution_count": 53,
     "metadata": {},
     "output_type": "execute_result"
    },
    {
     "data": {
      "image/png": "[encoded data removed]",
      "text/plain": [
       "<Figure size 432x288 with 1 Axes>"
      ]
     },
     "metadata": {
      "needs_background": "light"
     },
     "output_type": "display_data"
    },
    {
     "data": {
      "image/png": "[encoded data removed]",
      "text/plain": [
       "<Figure size 432x288 with 1 Axes>"
      ]
     },
     "metadata": {
      "needs_background": "light"
     },
     "output_type": "display_data"
    }
   ],
   "source": [
    "plt.figure()\n",
    "Mag1 = earthquake_df[(earthquake_df['Magnitude'] >5.5)]['Magnitude']\n",
    "Mag1.plot(kind = 'hist', stacked = True, bins = 50)\n",
    "plt.title('Magnitude less than 8', fontsize = 20)\n",
    "plt.xlabel('Magnitude', fontsize = 20)\n",
    "\n",
    "plt.figure()\n",
    "Mag2 = earthquake_df[(earthquake_df['Magnitude'] >8)]['Magnitude']\n",
    "Mag2.plot(kind = 'hist', stacked = True, bins = 50)\n",
    "plt.title('Magnitude above 8', fontsize = 20)\n",
    "plt.xlabel('Magnitude', fontsize = 20)"
   ]
  },
  {
   "cell_type": "code",
   "execution_count": 54,
   "metadata": {},
   "outputs": [
    {
     "data": {
      "text/plain": [
       "Text(0.5, 0, 'Magnitude')"
      ]
     },
     "execution_count": 54,
     "metadata": {},
     "output_type": "execute_result"
    },
    {
     "data": {
      "image/png": "[encoded data removed]",
      "text/plain": [
       "<Figure size 432x288 with 1 Axes>"
      ]
     },
     "metadata": {
      "needs_background": "light"
     },
     "output_type": "display_data"
    },
    {
     "data": {
      "image/png": "[encoded data removed]",
      "text/plain": [
       "<Figure size 432x288 with 1 Axes>"
      ]
     },
     "metadata": {
      "needs_background": "light"
     },
     "output_type": "display_data"
    }
   ],
   "source": [
    "plt.figure()\n",
    "depth = earthquake_df[(earthquake_df['Depth(km)'] <150)]['Depth(km)']\n",
    "depth.plot(kind = 'hist', stacked = True, bins = 50)\n",
    "plt.title('Depth(km < 650)')\n",
    "plt.xlabel('Depth(km)')\n",
    "\n",
    "plt.figure()\n",
    "Mag = earthquake_df[(earthquake_df['Magnitude'] >=5.5)]['Magnitude']\n",
    "Mag.plot(kind = 'hist', stacked = True, bins = 30)\n",
    "plt.title('Magnitude >=8)')\n",
    "plt.xlabel('Magnitude')\n"
   ]
  },
  {
   "cell_type": "code",
   "execution_count": 55,
   "metadata": {},
   "outputs": [],
   "source": [
    "earthquake_df.set_index('Date', drop = False, inplace = True)"
   ]
  },
  {
   "cell_type": "code",
   "execution_count": 56,
   "metadata": {},
   "outputs": [
    {
     "data": {
      "text/plain": [
       "Text(0, 0.5, 'Deaths')"
      ]
     },
     "execution_count": 56,
     "metadata": {},
     "output_type": "execute_result"
    },
    {
     "data": {
      "image/png": "[encoded data removed]",
      "text/plain": [
       "<Figure size 432x288 with 1 Axes>"
      ]
     },
     "metadata": {
      "needs_background": "light"
     },
     "output_type": "display_data"
    }
   ],
   "source": [
    "# Frequency of Deaths by year\n",
    "earthquake_df['deaths'].resample('365d').apply([np.mean]).plot()\n",
    "plt.title('Deaths Mean')\n",
    "plt.ylabel('Deaths')"
   ]
  },
  {
   "cell_type": "markdown",
   "metadata": {},
   "source": [
    "## Mapping Coordinates of EarthQuake"
   ]
  },
  {
   "cell_type": "code",
   "execution_count": 57,
   "metadata": {},
   "outputs": [
    {
     "data": {
      "text/plain": [
       "(16, 18)"
      ]
     },
     "execution_count": 57,
     "metadata": {},
     "output_type": "execute_result"
    }
   ],
   "source": [
    "earthquake_df[earthquake_df.Lat.isnull()].shape"
   ]
  },
  {
   "cell_type": "code",
   "execution_count": 58,
   "metadata": {},
   "outputs": [
    {
     "data": {
      "text/plain": [
       "(16, 18)"
      ]
     },
     "execution_count": 58,
     "metadata": {},
     "output_type": "execute_result"
    }
   ],
   "source": [
    "earthquake_df[earthquake_df.Long.isnull()].shape"
   ]
  },
  {
   "cell_type": "code",
   "execution_count": 59,
   "metadata": {
    "scrolled": false
   },
   "outputs": [],
   "source": [
    "earthquake_df.dropna(subset = ['Lat','Long'], how ='any',thresh = 1,inplace = True)"
   ]
  },
  {
   "cell_type": "code",
   "execution_count": 60,
   "metadata": {},
   "outputs": [
    {
     "name": "stdout",
     "output_type": "stream",
     "text": [
      "<class 'pandas.core.frame.DataFrame'>\n",
      "DatetimeIndex: 1324 entries, 1976-07-27 19:42:00 to 2008-08-21 12:24:00\n",
      "Data columns (total 18 columns):\n",
      "Date                   1324 non-null datetime64[ns]\n",
      "Country                1324 non-null object\n",
      "Lat                    1324 non-null float64\n",
      "Long                   1324 non-null float64\n",
      "Depth(km)              1247 non-null float64\n",
      "Magnitude              1323 non-null float64\n",
      "Secondary Effects      370 non-null object\n",
      "PDE Shaking Deaths     738 non-null float64\n",
      "PDE Total Deaths       748 non-null float64\n",
      "UTsu Total Deaths      1027 non-null float64\n",
      "EM-Dat Total Deaths    558 non-null float64\n",
      "Other Source Deaths    27 non-null float64\n",
      "deaths                 1261 non-null float64\n",
      "F                      1324 non-null int64\n",
      "L                      1324 non-null int64\n",
      "Lq                     1324 non-null int64\n",
      "T                      1324 non-null int64\n",
      "Year                   1324 non-null int64\n",
      "dtypes: datetime64[ns](1), float64(10), int64(5), object(2)\n",
      "memory usage: 196.5+ KB\n"
     ]
    }
   ],
   "source": [
    "earthquake_df.info()"
   ]
  },
  {
   "cell_type": "code",
   "execution_count": 61,
   "metadata": {},
   "outputs": [],
   "source": [
    "map = folium.Map(location=[20,0],zoom_start=2, tiles = 'StamenTerrain')"
   ]
  },
  {
   "cell_type": "code",
   "execution_count": 62,
   "metadata": {},
   "outputs": [
    {
     "ename": "FileNotFoundError",
     "evalue": "[Errno 2] No such file or directory: '/Users/hari/NSSdatascience/Tectonic_plates/tectonicplates/GeoJSON/PB2002_plates.json'",
     "output_type": "error",
     "traceback": [
      "\u001b[0;31m---------------------------------------------------------------------------\u001b[0m",
      "\u001b[0;31mFileNotFoundError\u001b[0m                         Traceback (most recent call last)",
      "\u001b[0;32m<ipython-input-62-7b02813126c7>\u001b[0m in \u001b[0;36m<module>\u001b[0;34m\u001b[0m\n\u001b[0;32m----> 1\u001b[0;31m \u001b[0;32mwith\u001b[0m \u001b[0mopen\u001b[0m\u001b[0;34m(\u001b[0m\u001b[0;34m'/Users/hari/NSSdatascience/Tectonic_plates/tectonicplates/GeoJSON/PB2002_plates.json'\u001b[0m\u001b[0;34m)\u001b[0m \u001b[0;32mas\u001b[0m \u001b[0mp\u001b[0m\u001b[0;34m:\u001b[0m\u001b[0;34m\u001b[0m\u001b[0m\n\u001b[0m\u001b[1;32m      2\u001b[0m       \u001b[0mplates\u001b[0m \u001b[0;34m=\u001b[0m \u001b[0mjson\u001b[0m\u001b[0;34m.\u001b[0m\u001b[0mload\u001b[0m\u001b[0;34m(\u001b[0m\u001b[0mp\u001b[0m\u001b[0;34m)\u001b[0m\u001b[0;34m\u001b[0m\u001b[0m\n",
      "\u001b[0;31mFileNotFoundError\u001b[0m: [Errno 2] No such file or directory: '/Users/hari/NSSdatascience/Tectonic_plates/tectonicplates/GeoJSON/PB2002_plates.json'"
     ]
    }
   ],
   "source": [
    "with open('/Users/hari/NSSdatascience/Tectonic_plates/tectonicplates/GeoJSON/PB2002_plates.json') as p:\n",
    "      plates = json.load(p)"
   ]
  },
  {
   "cell_type": "code",
   "execution_count": null,
   "metadata": {},
   "outputs": [],
   "source": [
    "folium.GeoJson(plates).add_to(map)"
   ]
  },
  {
   "cell_type": "code",
   "execution_count": null,
   "metadata": {
    "scrolled": false
   },
   "outputs": [],
   "source": [
    "map\n"
   ]
  },
  {
   "cell_type": "markdown",
   "metadata": {},
   "source": [
    "### Create a New DataFrame "
   ]
  },
  {
   "cell_type": "code",
   "execution_count": null,
   "metadata": {
    "scrolled": false
   },
   "outputs": [],
   "source": [
    "earthquake_df1 = earthquake_df[['Year','Country','Depth(km)','Magnitude','F','L',\"Lq\",'T','deaths', 'Lat','Long']]"
   ]
  },
  {
   "cell_type": "code",
   "execution_count": null,
   "metadata": {},
   "outputs": [],
   "source": [
    "earthquake_df1=earthquake_df1.rename(columns ={'F':'Fire','L':'Landslide','Lq':'Liquefaction','T':'Tsunami'})"
   ]
  },
  {
   "cell_type": "markdown",
   "metadata": {},
   "source": [
    "#### Change dummy variable to alphabets showing secondary Effects"
   ]
  },
  {
   "cell_type": "code",
   "execution_count": null,
   "metadata": {},
   "outputs": [],
   "source": [
    "earthquake_df1['Fire'] = earthquake_df1['Fire'].replace(1, 'F')\n",
    "earthquake_df1['Landslide'] = earthquake_df1['Landslide'].replace(1, 'L')\n",
    "earthquake_df1['Liquefaction'] = earthquake_df1['Liquefaction'].replace(1, 'Lq')\n",
    "earthquake_df1['Tsunami'] = earthquake_df1['Tsunami'].replace(1, 'T')"
   ]
  },
  {
   "cell_type": "code",
   "execution_count": null,
   "metadata": {},
   "outputs": [],
   "source": [
    "new_df= earthquake_df1[((earthquake_df1['Fire'] == 'F') | (earthquake_df1['Landslide'] == 'L')) | ((earthquake_df1['Tsunami'] == 'T')  | (earthquake_df1['Liquefaction'] == 'F'))].sort_values(ascending =False, by = \"deaths\")"
   ]
  },
  {
   "cell_type": "code",
   "execution_count": null,
   "metadata": {
    "scrolled": false
   },
   "outputs": [],
   "source": [
    "new_df.shape\n"
   ]
  },
  {
   "cell_type": "code",
   "execution_count": null,
   "metadata": {},
   "outputs": [],
   "source": [
    "new_df.describe()"
   ]
  },
  {
   "cell_type": "code",
   "execution_count": null,
   "metadata": {},
   "outputs": [],
   "source": [
    "print(new_df[new_df.Fire== 'F'].shape)\n",
    "print(new_df[new_df.Landslide== 'L'].shape)\n",
    "print(new_df[new_df.Liquefaction== 'Lq'].shape)\n",
    "print(new_df[new_df.Tsunami== 'T'].shape)"
   ]
  },
  {
   "cell_type": "markdown",
   "metadata": {},
   "source": [
    "### Creating Dataframe with multiple options to analyze secondary effects. \n",
    "##Are deaths related to cumulative effect of secondary effects following earthquakes?"
   ]
  },
  {
   "cell_type": "code",
   "execution_count": null,
   "metadata": {
    "scrolled": false
   },
   "outputs": [],
   "source": [
    "\n",
    "new_df1= new_df[(new_df['Fire'] == 'F') & (new_df['Landslide'] == 'L') &(new_df['Liquefaction'] == 'Lq')]#.groupby(['deaths','Magnitude','Country']).sum()\n",
    "new_df2= new_df[(new_df['Landslide'] == 'L') & (new_df['Liquefaction'] == 'Lq') & (new_df['Tsunami'] == 'T')]#.groupby(['deaths','Magnitude','Country']).max()\n",
    "new_df3= new_df[(new_df['Liquefaction'] == 'Lq') & (new_df['Landslide'] == 'L') & (new_df['Tsunami'] != 'T') & (new_df['Fire'] != 'F') ]#.groupby(['deaths','Magnitude','Country']).max()\n",
    "new_df4= new_df[(new_df['Tsunami'] == 'T') & (new_df['Liquefaction'] == 'Lq') & (new_df['Landslide'] != 'L')]#.groupby(['deaths','Magnitude','Country']).max()\n",
    "                        \n",
    "new_df5= new_df[(new_df['Tsunami'] == 'T') & (new_df['Landslide'] == 'L') & (new_df['Fire'] != 'F') & (new_df['Liquefaction'] != 'Lq')]#.groupby(['deaths','Magnitude','Country']).max()\n",
    "new_df6= new_df[(new_df['Tsunami'] == 'T') & (new_df['Liquefaction'] != 'Lq') &(new_df['Fire'] != 'F') & (new_df['Landslide'] != 'L')]#.groupby(['deaths','Magnitude','Country']).max()             \n",
    "new_df7= new_df[(new_df['Fire'] == 'F') & (new_df['Liquefaction'] != 'Lq') & (new_df['Tsunami']!= 'T') & (new_df['Landslide'] != 'L')]#.groupby(['deaths','Magnitude','Country']).max()\n",
    "new_df8= new_df[(new_df['Fire'] != 'F') & (new_df['Liquefaction'] != 'Lq') & (new_df['Tsunami']!= 'T') & (new_df['Landslide'] == 'L')]#.groupby(['deaths','Magnitude','Country']).max()\n"
   ]
  },
  {
   "cell_type": "markdown",
   "metadata": {},
   "source": [
    "####  Fire, Landslide and Liquefaction together occured once during Japan earthquake in 1995 with a magnitude of 6.9 causing 6432 deaths"
   ]
  },
  {
   "cell_type": "code",
   "execution_count": null,
   "metadata": {},
   "outputs": [],
   "source": [
    "new_df1.reset_index()"
   ]
  },
  {
   "cell_type": "markdown",
   "metadata": {},
   "source": [
    "### Landslide,liquefaction, tsunami occured 4 times during earthquakes. Interestingly in three countries there were no major deaths inspite of higher magnitude of earthquake. "
   ]
  },
  {
   "cell_type": "code",
   "execution_count": null,
   "metadata": {},
   "outputs": [],
   "source": [
    "new_df2.reset_index().head(4)\n"
   ]
  },
  {
   "cell_type": "markdown",
   "metadata": {},
   "source": [
    "### Landslide, liquefaction together occured  9 times during earthquakes . "
   ]
  },
  {
   "cell_type": "code",
   "execution_count": null,
   "metadata": {},
   "outputs": [],
   "source": [
    "new_df3.reset_index().head()\n",
    "#print(new_df3[['Magnitude','deaths']].corr())"
   ]
  },
  {
   "cell_type": "markdown",
   "metadata": {},
   "source": [
    "### Deaths during earthquakes with Liquefaction and tsunami together occured only 2 times"
   ]
  },
  {
   "cell_type": "code",
   "execution_count": null,
   "metadata": {},
   "outputs": [],
   "source": [
    "new_df4.reset_index().head(10)\n"
   ]
  },
  {
   "cell_type": "markdown",
   "metadata": {},
   "source": [
    "####  Tsunami, Landslide, 25 times during earthquakes\n",
    "#### All four secondary effects didnot occur together anytime or hasnot been reported"
   ]
  },
  {
   "cell_type": "code",
   "execution_count": null,
   "metadata": {},
   "outputs": [],
   "source": [
    "new_df5.reset_index().head()\n",
    "#print(new_df5[['Magnitude','deaths']].corr())"
   ]
  },
  {
   "cell_type": "markdown",
   "metadata": {},
   "source": [
    "####  Tsunami associated with earthquakes 128 "
   ]
  },
  {
   "cell_type": "code",
   "execution_count": null,
   "metadata": {
    "scrolled": false
   },
   "outputs": [],
   "source": [
    "new_df6.reset_index().sort_values(ascending = False, by = 'deaths').fillna(0).head()"
   ]
  },
  {
   "cell_type": "markdown",
   "metadata": {},
   "source": [
    "## Fire associated with earthquake"
   ]
  },
  {
   "cell_type": "code",
   "execution_count": null,
   "metadata": {},
   "outputs": [],
   "source": [
    "new_df7.reset_index()"
   ]
  },
  {
   "cell_type": "markdown",
   "metadata": {},
   "source": [
    "### Landslide associated with Earthquakes"
   ]
  },
  {
   "cell_type": "code",
   "execution_count": null,
   "metadata": {},
   "outputs": [],
   "source": [
    "print(new_df8.reset_index().shape)\n",
    "print(new_df8[['Magnitude','deaths']].corr())"
   ]
  },
  {
   "cell_type": "code",
   "execution_count": null,
   "metadata": {},
   "outputs": [],
   "source": [
    "matplotlib.style.use('ggplot')\n",
    "\n",
    "plt.scatter('Magnitude', 'deaths', data = new_df8)\n",
    "plt.show()"
   ]
  },
  {
   "cell_type": "code",
   "execution_count": null,
   "metadata": {},
   "outputs": [],
   "source": [
    "merged = pd.concat([new_df1, new_df2, new_df3, new_df4,new_df5,new_df6,new_df7,new_df8])"
   ]
  },
  {
   "cell_type": "code",
   "execution_count": null,
   "metadata": {
    "scrolled": false
   },
   "outputs": [],
   "source": [
    "merged.reset_index(inplace = True)\n",
    "merged.head().sort_values(ascending = True, by ='Country').head(100)"
   ]
  },
  {
   "cell_type": "code",
   "execution_count": null,
   "metadata": {},
   "outputs": [],
   "source": [
    "merged['coords'] = list(zip(merged.Long, merged.Lat))\n",
    "merged['coords'] = merged['coords'].apply(Point)\n",
    "secondaryeffects_geo = gpd.GeoDataFrame(merged, geometry='coords')\n",
    "secondaryeffects_geo.crs = {'init': 'epsg:4326'}\n",
    "secondaryeffects_geo.head(400)\n",
    "secondaryeffects_geo.head()"
   ]
  },
  {
   "cell_type": "code",
   "execution_count": null,
   "metadata": {},
   "outputs": [],
   "source": [
    "\n",
    "world = gpd.read_file(gpd.datasets.get_path('naturalearth_lowres'))\n",
    "ax = world.plot(figsize=(25,5))\n",
    "ax.axis('off')"
   ]
  },
  {
   "cell_type": "code",
   "execution_count": null,
   "metadata": {},
   "outputs": [],
   "source": [
    "ax = secondaryeffects_geo.plot(figsize = (25,5), markersize = 10, color = 'green', alpha = 0.5)\n",
    "ax.axis('off')"
   ]
  },
  {
   "cell_type": "code",
   "execution_count": null,
   "metadata": {
    "scrolled": true
   },
   "outputs": [],
   "source": [
    "ax = world.plot(color='#EEE9E9', linewidth=0.5,edgecolor ='black', figsize =(25,5))\n",
    "ax.axis('off')\n",
    "legend_kwds = {'title': 'Magnitude', 'shadow': False,\n",
    "               'loc': 'upper right', 'bbox_to_anchor': (1, 1.03), 'ncol': 1}\n",
    "secondaryeffects_geo.plot(column = 'Magnitude',markersize = secondaryeffects_geo['deaths']/100, alpha =1, ax = ax, cmap= 'tab10', legend = True,legend_kwds = legend_kwds)\n",
    "plt.title(\"Deaths in 100's Due to Secondary Effects\")\n",
    "plt.text(235,100,'Magnitude')\n",
    "plt.savefig('secondaryeffects2.pdf')"
   ]
  },
  {
   "cell_type": "code",
   "execution_count": null,
   "metadata": {
    "scrolled": false
   },
   "outputs": [],
   "source": [
    "merged.sort_values(ascending = False, by = 'deaths').head()"
   ]
  },
  {
   "cell_type": "code",
   "execution_count": null,
   "metadata": {},
   "outputs": [],
   "source": [
    "map2 = folium.Map(location=[20,0],zoom_start=4, tiles = 'StamenTerrain')"
   ]
  },
  {
   "cell_type": "code",
   "execution_count": null,
   "metadata": {},
   "outputs": [],
   "source": [
    "\n",
    "from folium.plugins import MarkerCluster\n",
    "\n",
    "marker_cluster = MarkerCluster().add_to(map2)\n",
    "\n",
    "for i in range(1,len(merged)):\n",
    "                            \n",
    "    if merged.iloc[i]['Landslide'] =='L':\n",
    "        folium.CircleMarker([merged.iloc[i]['Lat'], merged.iloc[i]['Long']],\n",
    "                            radius=merged.iloc[i]['deaths'], color='black',\n",
    "                            popup=merged.iloc[i]['Magnitude'].astype(str)).add_to(marker_cluster)\n",
    "    if merged.iloc[i]['Tsunami'] =='T':\n",
    "        folium.CircleMarker([merged.iloc[i]['Lat'], merged.iloc[i]['Long']],\n",
    "                            radius=merged.iloc[i]['deaths'], color='red',\n",
    "                            popup=merged.iloc[i]['Magnitude'].astype(str)).add_to(marker_cluster)\n",
    "    if merged.iloc[i]['Liquefaction'] =='Lq':\n",
    "        folium.CircleMarker([merged.iloc[i]['Lat'], merged.iloc[i]['Long']],\n",
    "                            radius=merged.iloc[i]['deaths'], color='pink',\n",
    "                            popup=merged.iloc[i]['Magnitude'].astype(str)).add_to(marker_cluster)\n",
    "        \n",
    "    if merged.iloc[i]['Fire'] =='F':\n",
    "        folium.CircleMarker([merged.iloc[i]['Lat'], merged.iloc[i]['Long']],\n",
    "                            radius=merged.iloc[i]['deaths'], color='blue',\n",
    "                            popup=merged.iloc[i]['Magnitude'].astype(str)).add_to(marker_cluster)\n",
    "\n",
    "\n",
    "map2"
   ]
  },
  {
   "cell_type": "code",
   "execution_count": null,
   "metadata": {},
   "outputs": [],
   "source": [
    "#     if merged.iloc[i]['Tsunami'] =='T':\n",
    "#         folium.CircleMarker([merged.iloc[i]['Lat'], merged.iloc[i]['Long']],\n",
    "#                             radius=merged.iloc[i]['deaths'], color='red',\n",
    "#                             popup=merged.iloc[i]['Magnitude'].astype(str)).add_to(marker_cluster)\n",
    "#     if merged.iloc[i]['Liquefaction'] =='Lq':\n",
    "#         folium.CircleMarker([merged.iloc[i]['Lat'], merged.iloc[i]['Long']],\n",
    "#                             radius=merged.iloc[i]['deaths'], color='pink',\n",
    "#                             popup=merged.iloc[i]['Magnitude'].astype(str)).add_to(marker_cluster)\n",
    "        \n",
    "#     if merged.iloc[i]['Fire'] =='F':\n",
    "#         folium.CircleMarker([merged.iloc[i]['Lat'], merged.iloc[i]['Long']],\n",
    "#                             radius=merged.iloc[i]['deaths'], color='blue',\n",
    "#                             popup=merged.iloc[i]['Magnitude'].astype(str)).add_to(marker_cluster)\n",
    "\n"
   ]
  },
  {
   "cell_type": "code",
   "execution_count": null,
   "metadata": {},
   "outputs": [],
   "source": [
    "# with open('/Users/hari/NSSdatascience/Tectonic_plates/tectonicplates/GeoJSON/PB2002_plates.json') as p:\n",
    "#       plates = json.load(p)\n"
   ]
  },
  {
   "cell_type": "code",
   "execution_count": null,
   "metadata": {},
   "outputs": [],
   "source": [
    "#gpd.Json(plates).add_to(world)"
   ]
  },
  {
   "cell_type": "code",
   "execution_count": null,
   "metadata": {},
   "outputs": [],
   "source": [
    "print('F,L,Lq')\n",
    "print(new_df1.deaths.sum())\n",
    "print('L,Lq,T')\n",
    "print(new_df2.deaths.sum())\n",
    "print('L,Lq')\n",
    "print(new_df3.deaths.sum())\n",
    "print('Lq,T')\n",
    "print(new_df4.deaths.sum())\n",
    "print('L,T')\n",
    "print(new_df5.deaths.sum())\n",
    "print('T')\n",
    "print(new_df6.deaths.sum())\n",
    "print('F')\n",
    "print(new_df7.deaths.sum())\n",
    "print('L')\n",
    "print(new_df8.deaths.sum())\n",
    "print('Total')\n",
    "print(earthquake_df.deaths.sum())"
   ]
  },
  {
   "cell_type": "code",
   "execution_count": null,
   "metadata": {},
   "outputs": [],
   "source": [
    "effects = {'Fire, Landslide, Liquefaction': new_df1.deaths.sum(), 'Landslide, Liquefaction,Tsunami': new_df2.deaths.sum(),'Landslide, Liquefaction': new_df3.deaths.sum(), \n",
    "           'Liquefaction,Tsunami': new_df4.deaths.sum(), 'Landslide,Tsunami': new_df5.deaths.sum(),'Tsunami': new_df6.deaths.sum(),\n",
    "           'Fire': new_df7.deaths.sum(), 'Landslide': new_df8.deaths.sum(),'Total': earthquake_df.deaths.sum()}"
   ]
  },
  {
   "cell_type": "code",
   "execution_count": null,
   "metadata": {},
   "outputs": [],
   "source": [
    "secondary_deaths = pd.DataFrame(effects, index=[0]).T\n",
    "secondary_deaths.reset_index(inplace = True)\n",
    "secondary_deaths.rename(columns = {'index': 'Secondary Effects', 0: 'Deaths'}, inplace = True)\n",
    "secondary_deaths.sort_values(ascending = False, by ='Deaths')"
   ]
  },
  {
   "cell_type": "code",
   "execution_count": null,
   "metadata": {},
   "outputs": [],
   "source": [
    "plt.figure(figsize=(25,15))\n",
    "secondary_deaths.plot.barh(x ='Secondary Effects', y= 'Deaths',width = 0.95, color=['darkgrey','blue','red','black','green','orange','blue','green','yellow'])\n",
    "plt.title(\"Secondary Deaths \\n compared to Total Deaths\", size = 15)\n",
    "plt.ylabel('Secondary Effects', fontsize=20)\n",
    "plt.xlabel('Number of Deaths', fontsize=20)\n",
    "plt.xticks(size =12, rotation=45)\n",
    "plt.yticks(size =15)\n",
    "plt.legend(bbox_to_anchor=(1.05, 1), loc=2, borderaxespad=0.)\n"
   ]
  },
  {
   "cell_type": "code",
   "execution_count": null,
   "metadata": {},
   "outputs": [],
   "source": []
  },
  {
   "cell_type": "code",
   "execution_count": null,
   "metadata": {},
   "outputs": [],
   "source": []
  }
 ],
 "metadata": {
  "kernelspec": {
   "display_name": "Python 3",
   "language": "python",
   "name": "python3"
  },
  "language_info": {
   "codemirror_mode": {
    "name": "ipython",
    "version": 3
   },
   "file_extension": ".py",
   "mimetype": "text/x-python",
   "name": "python",
   "nbconvert_exporter": "python",
   "pygments_lexer": "ipython3",
   "version": "3.6.6"
  }
 },
 "nbformat": 4,
 "nbformat_minor": 2
}
